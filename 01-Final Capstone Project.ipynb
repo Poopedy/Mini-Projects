{
 "cells": [
  {
   "cell_type": "markdown",
   "metadata": {
    "collapsed": true
   },
   "source": [
    "# Final Capstone Projects\n",
    "\n",
    "Please refer to the [**Final Capstone Projects**](http://nbviewer.jupyter.org/github/jmportilla/Complete-Python-Bootcamp/tree/master/Final%20Capstone%20Projects/) folder to get all the info on final capstone project ideas and possible solutions!"
   ]
  },
  {
   "cell_type": "code",
   "execution_count": 14,
   "metadata": {},
   "outputs": [],
   "source": [
    "#Fibonacci"
   ]
  },
  {
   "cell_type": "code",
   "execution_count": 37,
   "metadata": {},
   "outputs": [
    {
     "name": "stdout",
     "output_type": "stream",
     "text": [
      "How many numbers do you need? 5\n",
      "[0, 1, 1, 2, 3]\n"
     ]
    }
   ],
   "source": [
    "def find_Fibo(n):\n",
    "    fib = [0,1]\n",
    "    if n == 2:\n",
    "        print(str(fib))\n",
    "    else:\n",
    "        \n",
    "    \n",
    "        while n != 1000:\n",
    "            for nth in range(1,n-1):\n",
    "                num = fib[nth-1]+fib[nth]\n",
    "                fib.append(num)\n",
    "\n",
    "            return str(fib)\n",
    "        \n",
    "        \n",
    "def main():  # Wrapper function\n",
    "\n",
    "    print(find_Fibo(int(input('How many numbers do you need? '))))\n",
    "\n",
    "if __name__ == '__main__':\n",
    "    main()\n",
    "            \n",
    "            \n",
    "            \n",
    "        \n",
    "    "
   ]
  },
  {
   "cell_type": "code",
   "execution_count": null,
   "metadata": {},
   "outputs": [],
   "source": []
  },
  {
   "cell_type": "code",
   "execution_count": null,
   "metadata": {},
   "outputs": [],
   "source": []
  },
  {
   "cell_type": "code",
   "execution_count": null,
   "metadata": {},
   "outputs": [],
   "source": []
  },
  {
   "cell_type": "code",
   "execution_count": null,
   "metadata": {},
   "outputs": [],
   "source": []
  },
  {
   "cell_type": "code",
   "execution_count": null,
   "metadata": {},
   "outputs": [],
   "source": [
    "#Prime factor"
   ]
  },
  {
   "cell_type": "code",
   "execution_count": 32,
   "metadata": {},
   "outputs": [],
   "source": [
    "def p_f(n):\n",
    "    \n",
    "    def p(x):\n",
    "        \n",
    "        hold = []\n",
    "        for xth in range(1,x+1):\n",
    "            if x % xth == 0:\n",
    "                hold.append(xth)\n",
    "        if len(hold) == 2:\n",
    "            return True\n",
    "        \n",
    "    another = []\n",
    "    \n",
    "    for nth in range(1,n+1):\n",
    "        if n % nth == 0 and p(nth):\n",
    "            another.append(nth)\n",
    "            \n",
    "    print(another)\n",
    "                "
   ]
  },
  {
   "cell_type": "code",
   "execution_count": 34,
   "metadata": {},
   "outputs": [
    {
     "name": "stdout",
     "output_type": "stream",
     "text": [
      "[2, 5]\n"
     ]
    }
   ],
   "source": [
    "p_f(20)"
   ]
  },
  {
   "cell_type": "code",
   "execution_count": null,
   "metadata": {},
   "outputs": [],
   "source": []
  },
  {
   "cell_type": "code",
   "execution_count": 1,
   "metadata": {},
   "outputs": [],
   "source": [
    "#Next Prime"
   ]
  },
  {
   "cell_type": "code",
   "execution_count": 24,
   "metadata": {},
   "outputs": [],
   "source": [
    "def Next_prime():\n",
    "    for n in range(2,1001):\n",
    "        con = 'Y'\n",
    "        def checkP(n):\n",
    "\n",
    "            list_p = []\n",
    "            for nth in range(2,n+1):\n",
    "                if n % nth == 0:\n",
    "                    list_p.append(nth)\n",
    "            if len(list_p) == 1:\n",
    "                return True\n",
    "\n",
    "\n",
    "        if checkP(n):\n",
    "\n",
    "            print(n)\n",
    "            con = input('Con? Y or N: ')\n",
    "\n",
    "        if con == 'N':\n",
    "            break\n",
    "        else:\n",
    "            continue"
   ]
  },
  {
   "cell_type": "code",
   "execution_count": 25,
   "metadata": {},
   "outputs": [
    {
     "name": "stdout",
     "output_type": "stream",
     "text": [
      "2\n",
      "Con? Y or N: Y\n",
      "3\n",
      "Con? Y or N: Y\n",
      "5\n",
      "Con? Y or N: Y\n",
      "7\n",
      "Con? Y or N: Y\n",
      "11\n",
      "Con? Y or N: N\n"
     ]
    }
   ],
   "source": [
    "Next_prime()"
   ]
  },
  {
   "cell_type": "code",
   "execution_count": null,
   "metadata": {},
   "outputs": [],
   "source": []
  },
  {
   "cell_type": "code",
   "execution_count": null,
   "metadata": {},
   "outputs": [],
   "source": [
    "#Collatz conjecture"
   ]
  },
  {
   "cell_type": "code",
   "execution_count": 8,
   "metadata": {},
   "outputs": [],
   "source": [
    "def Collatz():\n",
    "    n = 0\n",
    "    while n != int and n<1:\n",
    "        n = int(input('Give n' ))\n",
    "    def even(x):\n",
    "        return x % 2 == 0\n",
    "    \n",
    "    def odd(x):\n",
    "        return not x % 2 == 0\n",
    "    \n",
    "    counter = 0\n",
    "    \n",
    "    while n > 1:\n",
    "        \n",
    "        if even(n):\n",
    "            n = n/2\n",
    "            counter += 1\n",
    "        elif odd(n):\n",
    "            n = n*3 + 1\n",
    "            counter += 1\n",
    "    if n == 1:\n",
    "        print(counter)\n",
    "        \n",
    "        \n",
    "            "
   ]
  },
  {
   "cell_type": "code",
   "execution_count": 9,
   "metadata": {},
   "outputs": [
    {
     "name": "stdout",
     "output_type": "stream",
     "text": [
      "Give n6\n",
      "8\n"
     ]
    }
   ],
   "source": [
    "Collatz()"
   ]
  },
  {
   "cell_type": "code",
   "execution_count": null,
   "metadata": {},
   "outputs": [],
   "source": []
  }
 ],
 "metadata": {
  "kernelspec": {
   "display_name": "Python 3",
   "language": "python",
   "name": "python3"
  },
  "language_info": {
   "codemirror_mode": {
    "name": "ipython",
    "version": 3
   },
   "file_extension": ".py",
   "mimetype": "text/x-python",
   "name": "python",
   "nbconvert_exporter": "python",
   "pygments_lexer": "ipython3",
   "version": "3.8.5"
  }
 },
 "nbformat": 4,
 "nbformat_minor": 1
}
